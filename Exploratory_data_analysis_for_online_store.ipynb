{
  "nbformat": 4,
  "nbformat_minor": 0,
  "metadata": {
    "colab": {
      "provenance": [],
      "include_colab_link": true
    },
    "kernelspec": {
      "name": "python3",
      "display_name": "Python 3"
    },
    "language_info": {
      "name": "python"
    }
  },
  "cells": [
    {
      "cell_type": "markdown",
      "metadata": {
        "id": "view-in-github",
        "colab_type": "text"
      },
      "source": [
        "<a href=\"https://colab.research.google.com/github/NataliaMate/Python-projects/blob/main/Exploratory_data_analysis_for_online_store.ipynb\" target=\"_parent\"><img src=\"https://colab.research.google.com/assets/colab-badge.svg\" alt=\"Open In Colab\"/></a>"
      ]
    },
    {
      "cell_type": "markdown",
      "source": [
        "Ти маєш дані про місячні зарплати IT-спеціалістів у різних компаніях та їх досвід роботи. Твоя мета — перевірити, чи розподіл цих даних є нормальним. Це важливо у майбутньому для вибору правильних статистичних тестів та методів аналізу.\n",
        "\n",
        "```\n",
        "salaries = [3000, 3200, 3500, 3700, 3100, 4000, 3300, 4500, 2900, 4200, 3400, 3100,\n",
        "            2950, 3600, 3800, 5000, 3700, 5200, 4700, 5500, 4300, 6000, 3100, 2800,\n",
        "            5000, 3200, 4100, 3900, 4500, 3000]\n",
        "work_experience = [5.9, 4.9, 5.6, 7.3, 4.8, 4.8, 7.7, 6.6, 3.2, 6.3, 3.9, 3.9, 5.5,\n",
        "                   3.9, 7.3, 6.7, 5.3, 2.9, 6.6, 5.1, 4.6, 4.6, 5.6, 8.5, 3.7, 4.4,\n",
        "                   6.4, 4.5, 5.5, 3.6]\n",
        "```\n",
        "\n",
        "1. За допомогою тестів Д'Агостіно-Пірсона та Шапіро-Уілка перевір нормальність розподілу обох вибірок.\n",
        "2. Побудуй гістограми для обох вибірок.\n",
        "3. Зроби висновки."
      ],
      "metadata": {
        "id": "kUZu9fRfifmT"
      }
    },
    {
      "cell_type": "code",
      "execution_count": null,
      "metadata": {
        "colab": {
          "base_uri": "https://localhost:8080/",
          "height": 576
        },
        "id": "h-X6hemzidWH",
        "outputId": "6ff1363d-d14f-4517-b42e-b47e957d16ec"
      },
      "outputs": [
        {
          "output_type": "stream",
          "name": "stdout",
          "text": [
            "D'Agostino-Pearson test for salaries data p-value: 0.18071878885695186\n",
            "Shapiro-Wilk test for salaries data p-value: 0.031783698516328236\n",
            "D'Agostino-Pearson test for work experience data p-value: 0.6172165634201328\n",
            "Shapiro-Wilk test for work experience data p-value: 0.7653602896426936\n"
          ]
        },
        {
          "output_type": "display_data",
          "data": {
            "text/plain": [
              "<Figure size 1200x500 with 2 Axes>"
            ],
            "image/png": "[encoded data removed]"
          },
          "metadata": {}
        }
      ],
      "source": [
        "import numpy as np\n",
        "import matplotlib.pyplot as plt\n",
        "from scipy.stats import normaltest, shapiro\n",
        "\n",
        "salaries = [\n",
        "    3000,\n",
        "    3200,\n",
        "    3500,\n",
        "    3700,\n",
        "    3100,\n",
        "    4000,\n",
        "    3300,\n",
        "    4500,\n",
        "    2900,\n",
        "    4200,\n",
        "    3400,\n",
        "    3100,\n",
        "    2950,\n",
        "    3600,\n",
        "    3800,\n",
        "    5000,\n",
        "    3700,\n",
        "    5200,\n",
        "    4700,\n",
        "    5500,\n",
        "    4300,\n",
        "    6000,\n",
        "    3100,\n",
        "    2800,\n",
        "    5000,\n",
        "    3200,\n",
        "    4100,\n",
        "    3900,\n",
        "    4500,\n",
        "    3000,\n",
        "]\n",
        "\n",
        "work_experience = [\n",
        "    5.9,\n",
        "    4.9,\n",
        "    5.6,\n",
        "    7.3,\n",
        "    4.8,\n",
        "    4.8,\n",
        "    7.7,\n",
        "    6.6,\n",
        "    3.2,\n",
        "    6.3,\n",
        "    3.9,\n",
        "    3.9,\n",
        "    5.5,\n",
        "    3.9,\n",
        "    7.3,\n",
        "    6.7,\n",
        "    5.3,\n",
        "    2.9,\n",
        "    6.6,\n",
        "    5.1,\n",
        "    4.6,\n",
        "    4.6,\n",
        "    5.6,\n",
        "    8.5,\n",
        "    3.7,\n",
        "    4.4,\n",
        "    6.4,\n",
        "    4.5,\n",
        "    5.5,\n",
        "    3.6,\n",
        "]\n",
        "\n",
        "# Normality tests for salaries\n",
        "_, p_value_salaries_normaltest = normaltest(salaries)\n",
        "_, p_value_salaries_shapiro = shapiro(salaries)\n",
        "\n",
        "# Test results\n",
        "print(\n",
        "    f\"D'Agostino-Pearson test for salaries data p-value: {p_value_salaries_normaltest}\"\n",
        ")\n",
        "print(f\"Shapiro-Wilk test for salaries data p-value: {p_value_salaries_shapiro}\")\n",
        "\n",
        "# Normality tests for work experience\n",
        "_, p_value_wexp_normaltest = normaltest(work_experience)\n",
        "_, p_value_wexp_shapiro = shapiro(work_experience)\n",
        "\n",
        "# Test results\n",
        "print(\n",
        "    f\"D'Agostino-Pearson test for work experience data p-value: {p_value_wexp_normaltest}\"\n",
        ")\n",
        "print(f\"Shapiro-Wilk test for work experience data p-value: {p_value_wexp_shapiro}\")\n",
        "\n",
        "# Plotting histograms to visualize data distributions\n",
        "plt.figure(figsize=(12, 5))\n",
        "\n",
        "# Salaries distribution\n",
        "plt.subplot(1, 2, 1)\n",
        "plt.hist(salaries, bins=5, color=\"skyblue\", edgecolor=\"black\")\n",
        "plt.title(\"Salaries Distribution\")\n",
        "\n",
        "# Work experience distribution\n",
        "plt.subplot(1, 2, 2)\n",
        "plt.hist(work_experience, bins=5, color=\"salmon\", edgecolor=\"black\")\n",
        "plt.title(\"Work Experience Distribution\")\n",
        "\n",
        "plt.tight_layout()\n",
        "plt.show()\n"
      ]
    },
    {
      "cell_type": "markdown",
      "source": [
        "Інтерпретація:\n",
        "- Для вибірки зарплат тести показали різні результати. У тесті Д'Агостіно-Пірсона отримали p-value > 0.05, тобто приймаємо гіпотезу про нормальність розподілу. У тесті Шапіро-Уілка, навпаки, p-value < 0.05, тож розподіл відрізняється від нормального. На гістограмі бачимо, що розподіл несиметричний, тому результати тесту Шапіро-Уілка більш прийнятні. Для невеликих вибірок (як у нашому прикладі) краще застосовувати саме його.\n",
        "- Для вибірки досвіду роботи обидва тести мають p-value > 0.05, тож приймаємо гіпотезу про нормальність розподілу."
      ],
      "metadata": {
        "id": "p7bdhcWgkjCs"
      }
    }
  ]
}